{
 "cells": [
  {
   "cell_type": "code",
   "execution_count": null,
   "id": "02b17927",
   "metadata": {},
   "outputs": [],
   "source": [
    "function isPalindrome(s) {\n",
    "    let left = 0;\n",
    "    let right = s.length - 1;\n",
    "    while (left < right) {\n",
    "        if (s[left] !== s[right]) {\n",
    "            return false;\n",
    "        }\n",
    "        left++;\n",
    "        right--;\n",
    "    }\n",
    "    return true;\n",
    "}\n",
    "\n",
    "function palindromeIndex(s) {\n",
    "    // if (s === s.split('').reverse().join('')) {\n",
    "    //     return -1;\n",
    "    // }\n",
    "    \n",
    "    let left = 0;\n",
    "    let right = s.length - 1;\n",
    "    let index = -1;\n",
    "    \n",
    "    while (left < right) {\n",
    "        //s.charAt(0)\n",
    "        if (s[left] !== s[right]) {\n",
    "            if (isPalindrome(s.substring(left + 1, right + 1))) {\n",
    "                return left;\n",
    "            } else if (isPalindrome(s.substring(left, right))) {\n",
    "                return right;\n",
    "            } else {\n",
    "                return -1;\n",
    "            }\n",
    "        }\n",
    "        left++;\n",
    "        right--;\n",
    "    }\n",
    "    \n",
    "    return index;\n",
    "}"
   ]
  }
 ],
 "metadata": {
  "kernelspec": {
   "display_name": "Python 3 (ipykernel)",
   "language": "python",
   "name": "python3"
  },
  "language_info": {
   "codemirror_mode": {
    "name": "ipython",
    "version": 3
   },
   "file_extension": ".py",
   "mimetype": "text/x-python",
   "name": "python",
   "nbconvert_exporter": "python",
   "pygments_lexer": "ipython3",
   "version": "3.11.3"
  }
 },
 "nbformat": 4,
 "nbformat_minor": 5
}
