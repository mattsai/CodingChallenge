{
 "cells": [
  {
   "cell_type": "code",
   "execution_count": 30,
   "id": "f04bda89",
   "metadata": {},
   "outputs": [
    {
     "data": {
      "text/plain": [
       "[[], [1], [2], [1, 2], [3], [1, 3], [2, 3], [1, 2, 3]]"
      ]
     },
     "execution_count": 30,
     "metadata": {},
     "output_type": "execute_result"
    }
   ],
   "source": [
    "a = [1,2,3]\n",
    "res = [[]]\n",
    "for value in a: \n",
    "    new_subset = []\n",
    "    for acc in res: \n",
    "        new_subset.append(acc + [value])\n",
    "    res.extend(new_subset)\n",
    "res"
   ]
  },
  {
   "cell_type": "code",
   "execution_count": 20,
   "id": "9b0ae065",
   "metadata": {},
   "outputs": [
    {
     "data": {
      "text/plain": [
       "[[], [1], [1, 2], [1, 2, 3], [1, 3], [2], [2, 3], [3]]"
      ]
     },
     "execution_count": 20,
     "metadata": {},
     "output_type": "execute_result"
    }
   ],
   "source": [
    "\n",
    "def subsets( nums):\n",
    "    r = []\n",
    "    p = []\n",
    "    r.append(p)\n",
    "    def dfs(arr):\n",
    "        if not arr: return\n",
    "        for index,value in enumerate(arr):\n",
    "            p.append(value)\n",
    "            r.append(p[:])\n",
    "            dfs(arr[index+1:])\n",
    "            p.pop()\n",
    "    dfs(nums)\n",
    "    return r\n",
    "            \n",
    "    \n",
    "a = [1,2,3]\n",
    "subsets(a)\n"
   ]
  }
 ],
 "metadata": {
  "kernelspec": {
   "display_name": "Python 3 (ipykernel)",
   "language": "python",
   "name": "python3"
  },
  "language_info": {
   "codemirror_mode": {
    "name": "ipython",
    "version": 3
   },
   "file_extension": ".py",
   "mimetype": "text/x-python",
   "name": "python",
   "nbconvert_exporter": "python",
   "pygments_lexer": "ipython3",
   "version": "3.11.3"
  }
 },
 "nbformat": 4,
 "nbformat_minor": 5
}
