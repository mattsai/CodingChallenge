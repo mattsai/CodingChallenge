{
 "cells": [
  {
   "cell_type": "code",
   "execution_count": 5,
   "id": "2be1aa35",
   "metadata": {},
   "outputs": [
    {
     "data": {
      "text/plain": [
       "[1]"
      ]
     },
     "execution_count": 5,
     "metadata": {},
     "output_type": "execute_result"
    }
   ],
   "source": [
    "def removeDuplicates( nums) -> int:\n",
    "        prev = \"\"\n",
    "        i = 0\n",
    "        \n",
    "        while i<len(nums):\n",
    "            if i!= 0 and nums[i] == prev :\n",
    "                nums.pop(i)\n",
    "                continue\n",
    "\n",
    "            prev = nums[i]\n",
    "            i+=1\n",
    "        return nums\n",
    "        \n",
    "removeDuplicates([1,1])"
   ]
  }
 ],
 "metadata": {
  "kernelspec": {
   "display_name": "Python 3 (ipykernel)",
   "language": "python",
   "name": "python3"
  },
  "language_info": {
   "codemirror_mode": {
    "name": "ipython",
    "version": 3
   },
   "file_extension": ".py",
   "mimetype": "text/x-python",
   "name": "python",
   "nbconvert_exporter": "python",
   "pygments_lexer": "ipython3",
   "version": "3.11.3"
  }
 },
 "nbformat": 4,
 "nbformat_minor": 5
}
