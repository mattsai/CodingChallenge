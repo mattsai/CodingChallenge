{
 "cells": [
  {
   "cell_type": "code",
   "execution_count": null,
   "id": "ee2ddfde",
   "metadata": {},
   "outputs": [],
   "source": [
    "# Definition for a binary tree node.\n",
    "# class TreeNode:\n",
    "#     def __init__(self, val=0, left=None, right=None):\n",
    "#         self.val = val\n",
    "#         self.left = left\n",
    "#         self.right = right\n",
    "class Solution:\n",
    "    def hasPathSum(self, root: Optional[TreeNode], targetSum: int) -> bool:\n",
    "        if not root: return False\n",
    "        \n",
    "        def dfs(node,current_sum):\n",
    "            if not node:\n",
    "                return  False\n",
    "\n",
    "            current_sum += node.val\n",
    "            if not node.left and not node.right  :\n",
    "                return current_sum == targetSum\n",
    "            \n",
    "            left = dfs(node.left,current_sum)\n",
    "            if left:\n",
    "                return True\n",
    "                \n",
    "            right= dfs(node.right,current_sum)\n",
    "            if right:\n",
    "                return True\n",
    "            \n",
    "            return False\n",
    "\n",
    "        return dfs(root,0)"
   ]
  }
 ],
 "metadata": {
  "kernelspec": {
   "display_name": "Python 3 (ipykernel)",
   "language": "python",
   "name": "python3"
  }
 },
 "nbformat": 4,
 "nbformat_minor": 5
}
