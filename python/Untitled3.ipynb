{
 "cells": [
  {
   "cell_type": "code",
   "execution_count": null,
   "id": "f75785d2",
   "metadata": {},
   "outputs": [],
   "source": [
    "class my_iter"
   ]
  },
  {
   "cell_type": "code",
   "execution_count": 19,
   "id": "c5817a16",
   "metadata": {},
   "outputs": [
    {
     "name": "stdout",
     "output_type": "stream",
     "text": [
      "[[1, 1, 1], [1, 2], [2, 1], [3]]\n"
     ]
    }
   ],
   "source": [
    "def combinationSum(candidates, target):\n",
    "    def backtrack(remaining, path):\n",
    "        if remaining == 0:\n",
    "            result.append(path)\n",
    "            return\n",
    "        if remaining < 0:\n",
    "            return\n",
    "        for num in candidates:\n",
    "#             if not path or num >= path[-1]:  # Para evitar duplicados\n",
    "            backtrack(remaining - num, path + [num])\n",
    "\n",
    "    result = []\n",
    "#     candidates.sort()\n",
    "    backtrack(target, [])\n",
    "    return result\n",
    "\n",
    "# Ejemplo de uso:\n",
    "candidates = [1, 2, 3]\n",
    "target = 3\n",
    "print(combinationSum(candidates, target))\n"
   ]
  },
  {
   "cell_type": "code",
   "execution_count": 6,
   "id": "eabc581a",
   "metadata": {},
   "outputs": [
    {
     "data": {
      "text/plain": [
       "[[2, 2, 3], [2, 5], [7]]"
      ]
     },
     "execution_count": 6,
     "metadata": {},
     "output_type": "execute_result"
    }
   ],
   "source": [
    " def combinationSum( candidates,target):\n",
    "        ans = []\n",
    "        path = []\n",
    "        def dfs(start,path,target):\n",
    "            if target < 0 :\n",
    "                return\n",
    "            if target == 0 : \n",
    "                ans.append(path[:])\n",
    "                return \n",
    "            for i in range(start,len(candidates)):\n",
    "                new_target = target - candidates[i]\n",
    "                dfs(i,path + [candidates[i]],new_target)\n",
    "        dfs(0,path,target)\n",
    "        return ans\n",
    "    \n",
    "combinationSum([2,3,5,7],7)"
   ]
  }
 ],
 "metadata": {
  "kernelspec": {
   "display_name": "Python 3 (ipykernel)",
   "language": "python",
   "name": "python3"
  },
  "language_info": {
   "codemirror_mode": {
    "name": "ipython",
    "version": 3
   },
   "file_extension": ".py",
   "mimetype": "text/x-python",
   "name": "python",
   "nbconvert_exporter": "python",
   "pygments_lexer": "ipython3",
   "version": "3.11.3"
  }
 },
 "nbformat": 4,
 "nbformat_minor": 5
}
