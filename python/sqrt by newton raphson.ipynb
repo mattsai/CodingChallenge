{
 "cells": [
  {
   "cell_type": "code",
   "execution_count": null,
   "id": "8649a1ae",
   "metadata": {},
   "outputs": [],
   "source": [
    "def mySqrt(self, x: int) -> int:\n",
    "        if x ==0 :return 0\n",
    "        est = x / 2.0\n",
    "\n",
    "        for _ in range(1000):\n",
    "            est= (est + x / est) / 2.0\n",
    "\n",
    "        return int(est)\n",
    "        "
   ]
  }
 ],
 "metadata": {
  "kernelspec": {
   "display_name": "Python 3 (ipykernel)",
   "language": "python",
   "name": "python3"
  },
  "language_info": {
   "codemirror_mode": {
    "name": "ipython",
    "version": 3
   },
   "file_extension": ".py",
   "mimetype": "text/x-python",
   "name": "python",
   "nbconvert_exporter": "python",
   "pygments_lexer": "ipython3",
   "version": "3.11.3"
  }
 },
 "nbformat": 4,
 "nbformat_minor": 5
}
