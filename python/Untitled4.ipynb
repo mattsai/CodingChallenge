{
 "cells": [
  {
   "cell_type": "code",
   "execution_count": null,
   "id": "9c62af59",
   "metadata": {},
   "outputs": [],
   "source": [
    "# \n",
    "# Person x = new Person(); \n",
    "\n",
    "#@override\n",
    "#public static String speak(){}\n",
    "\n",
    "# Player y = new Player();\n",
    "# ChessPlayer z = new ChessPlayer();\n",
    "\n",
    "\n",
    "#x.speak();\n",
    "#y.speak();\n",
    "\n",
    "#[a,b,c,d]\n",
    "\n",
    "\n",
    "\n",
    "\n"
   ]
  },
  {
   "cell_type": "code",
   "execution_count": null,
   "id": "24c3e092",
   "metadata": {},
   "outputs": [],
   "source": [
    "# interface \n",
    "    # method a\n",
    "    # method b\n"
   ]
  },
  {
   "cell_type": "code",
   "execution_count": null,
   "id": "6e91ba3c",
   "metadata": {},
   "outputs": [],
   "source": [
    "Get the element appears most frequently in one array.[1,2,1,3,55, 4, 1, 2, 3, 4, 1, 2, 3]"
   ]
  }
 ],
 "metadata": {
  "kernelspec": {
   "display_name": "Python 3 (ipykernel)",
   "language": "python",
   "name": "python3"
  },
  "language_info": {
   "codemirror_mode": {
    "name": "ipython",
    "version": 3
   },
   "file_extension": ".py",
   "mimetype": "text/x-python",
   "name": "python",
   "nbconvert_exporter": "python",
   "pygments_lexer": "ipython3",
   "version": "3.11.3"
  }
 },
 "nbformat": 4,
 "nbformat_minor": 5
}
