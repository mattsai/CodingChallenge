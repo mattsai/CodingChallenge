{
 "cells": [
  {
   "cell_type": "code",
   "execution_count": 4,
   "id": "c0d4e55a",
   "metadata": {},
   "outputs": [],
   "source": [
    "from typing import List\n",
    "def searchInsert(self, nums: List[int], target: int) -> int:\n",
    "        left,right = 0,len(nums)-1\n",
    "\n",
    "\n",
    "        while left<=right : \n",
    "            mid = (left+right)//2\n",
    "            if nums[mid] == target :\n",
    "                return mid \n",
    "\n",
    "            if nums[mid] < target: \n",
    "                left = mid +1 \n",
    "            else: \n",
    "                right = mid -1 \n",
    "        # return left\n",
    "        if target > nums[mid]:\n",
    "            return mid+1\n",
    "        else : \n",
    "            return mid"
   ]
  }
 ],
 "metadata": {
  "kernelspec": {
   "display_name": "Python 3 (ipykernel)",
   "language": "python",
   "name": "python3"
  },
  "language_info": {
   "codemirror_mode": {
    "name": "ipython",
    "version": 3
   },
   "file_extension": ".py",
   "mimetype": "text/x-python",
   "name": "python",
   "nbconvert_exporter": "python",
   "pygments_lexer": "ipython3",
   "version": "3.11.3"
  }
 },
 "nbformat": 4,
 "nbformat_minor": 5
}
