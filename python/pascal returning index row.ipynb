{
 "cells": [
  {
   "cell_type": "code",
   "execution_count": null,
   "id": "4bbdb4c7",
   "metadata": {},
   "outputs": [],
   "source": [
    "    def getRow(self, rowIndex: int) -> List[int]:\n",
    "\n",
    "        ans = [[1],[1,1]]\n",
    "        if  rowIndex == 0 :  return [1]\n",
    "        if rowIndex == 1 : return [1,1]\n",
    "        for i in range(rowIndex-1):\n",
    "            row = ans[-1].copy()\n",
    "            new_row = [1]\n",
    "            for index in range(len(row)-1):\n",
    "                new_row.append(row[index]+row[index+1])\n",
    "\n",
    "            new_row.append(1)\n",
    "            ans.append(new_row)\n",
    "        # print('ans ',ans)\n",
    "        return ans[-1]"
   ]
  }
 ],
 "metadata": {
  "kernelspec": {
   "display_name": "Python 3 (ipykernel)",
   "language": "python",
   "name": "python3"
  },
  "language_info": {
   "codemirror_mode": {
    "name": "ipython",
    "version": 3
   },
   "file_extension": ".py",
   "mimetype": "text/x-python",
   "name": "python",
   "nbconvert_exporter": "python",
   "pygments_lexer": "ipython3",
   "version": "3.11.3"
  }
 },
 "nbformat": 4,
 "nbformat_minor": 5
}
