{
 "cells": [
  {
   "cell_type": "code",
   "execution_count": null,
   "id": "a2147898",
   "metadata": {},
   "outputs": [],
   "source": [
    "class Solution:\n",
    "\n",
    "    def is_palindrome(self,s):\n",
    "        l =0 \n",
    "        r = len(s)-1\n",
    "        while l <r:\n",
    "            if s[l]!=s[r]:\n",
    "                return False\n",
    "            l+=1\n",
    "            r-=1\n",
    "        return True\n",
    "\n",
    "        # return s == s[::-1]\n",
    "\n",
    "    def partition(self, s: str) -> List[List[str]]:\n",
    "        \n",
    "        res = []\n",
    "        def dfs(start,path):\n",
    "            if start >= len(s):\n",
    "                res.append(path[:])\n",
    "                return\n",
    "            \n",
    "            for end in range(start+1,len(s)+1):\n",
    "                if self.is_palindrome(s[start:end]):\n",
    "                    dfs(end,path+[s[start:end]]) \n",
    "\n",
    "\n",
    "        dfs(0,[])\n",
    "        return res\n",
    "\n",
    "\n",
    "\n"
   ]
  }
 ],
 "metadata": {
  "kernelspec": {
   "display_name": "Python 3 (ipykernel)",
   "language": "python",
   "name": "python3"
  },
  "language_info": {
   "codemirror_mode": {
    "name": "ipython",
    "version": 3
   },
   "file_extension": ".py",
   "mimetype": "text/x-python",
   "name": "python",
   "nbconvert_exporter": "python",
   "pygments_lexer": "ipython3",
   "version": "3.11.3"
  }
 },
 "nbformat": 4,
 "nbformat_minor": 5
}
