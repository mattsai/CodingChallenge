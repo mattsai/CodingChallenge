{
 "cells": [
  {
   "cell_type": "code",
   "execution_count": null,
   "id": "40604674",
   "metadata": {},
   "outputs": [],
   "source": [
    "    def generate(self, numRows: int) -> List[List[int]]:\n",
    "\n",
    "        ans = [[1],[1,1]]\n",
    "        if  numRows == 1 :  return [[1]]\n",
    "        if numRows == 2 : return [[1],[1,1]]\n",
    "\n",
    "        #5\n",
    "\n",
    "        #0\n",
    "        #1\n",
    "        #2\n",
    "        #3\n",
    "        #4\n",
    "        for i in range(numRows-2):\n",
    "            row = ans[-1].copy()\n",
    "            #1 = [1,1]\n",
    "\n",
    "            # 2-1 1 -> 0\n",
    "            # 0,0+1 = 1+1 ins 1,2  \n",
    "            #[1,2,1]\n",
    "\n",
    "            #[1,2,1]  \n",
    "            # 2 = 0,1\n",
    "            #1 y 2\n",
    "            #i1 -> 0,0+1 = 1+2\n",
    "            new_row = [1]\n",
    "            for index in range(len(row)-1):\n",
    "                new_row.append(row[index]+row[index+1])\n",
    "\n",
    "            new_row.append(1)\n",
    "            ans.append(new_row)\n",
    "        # print('ans ',ans)\n",
    "        return ans"
   ]
  }
 ],
 "metadata": {
  "kernelspec": {
   "display_name": "Python 3 (ipykernel)",
   "language": "python",
   "name": "python3"
  },
  "language_info": {
   "codemirror_mode": {
    "name": "ipython",
    "version": 3
   },
   "file_extension": ".py",
   "mimetype": "text/x-python",
   "name": "python",
   "nbconvert_exporter": "python",
   "pygments_lexer": "ipython3",
   "version": "3.11.3"
  }
 },
 "nbformat": 4,
 "nbformat_minor": 5
}
