{
 "cells": [
  {
   "cell_type": "code",
   "execution_count": null,
   "id": "1a33cd2c",
   "metadata": {},
   "outputs": [],
   "source": [
    "def strStr(self, haystack: str, needle: str) -> int:\n",
    "        i ,i2 = 0, len(needle)\n",
    "        while i2<= len(haystack):\n",
    "            if haystack[i:i2] == needle : \n",
    "                return i\n",
    "            i+=1\n",
    "            i2+=1 \n",
    "        return -1\n",
    "        # return haystack.find(needle)"
   ]
  }
 ],
 "metadata": {
  "kernelspec": {
   "display_name": "Python 3 (ipykernel)",
   "language": "python",
   "name": "python3"
  },
  "language_info": {
   "codemirror_mode": {
    "name": "ipython",
    "version": 3
   },
   "file_extension": ".py",
   "mimetype": "text/x-python",
   "name": "python",
   "nbconvert_exporter": "python",
   "pygments_lexer": "ipython3",
   "version": "3.11.3"
  }
 },
 "nbformat": 4,
 "nbformat_minor": 5
}
