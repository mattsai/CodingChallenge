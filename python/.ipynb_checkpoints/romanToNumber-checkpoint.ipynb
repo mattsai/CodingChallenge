{
 "cells": [
  {
   "cell_type": "code",
   "execution_count": 10,
   "id": "db665c68",
   "metadata": {},
   "outputs": [
    {
     "data": {
      "text/plain": [
       "1999"
      ]
     },
     "execution_count": 10,
     "metadata": {},
     "output_type": "execute_result"
    }
   ],
   "source": [
    "class Solution:\n",
    "    def romanToInt(self, s: str) -> int:\n",
    "        numbers = {\n",
    "            'I' : 1,\n",
    "            'IV' : 4,\n",
    "            'V' : 5,\n",
    "            'IX' : 9,\n",
    "            'X' : 10,\n",
    "            'XL': 40,\n",
    "            'L': 50,\n",
    "            'XC':90,\n",
    "            'C':100,\n",
    "            'CD':400,\n",
    "            'D':500,\n",
    "            'CM':900,\n",
    "            'M':1000\n",
    "        }\n",
    "\n",
    "    # \"MCMXCI\"\n",
    "\n",
    "        #si i<len(s)-2 :  grab [i:i+2]\n",
    "        #0 M ,MC  i+=1  \n",
    "        #1 C CM ->  esta cm  i+=2 \n",
    "        #3 X XC -> XC i+=2 \n",
    "        #5 I   \n",
    "        n = len(s)\n",
    "        current_val = 0\n",
    "        i = 0\n",
    "        while True: \n",
    "            if i >= n :  break\n",
    "            val_key = s[i]\n",
    "            pair_key = s[i:i+2] if i<n-1 else \"\"\n",
    "            if pair_key in numbers:\n",
    "                current_val += numbers[pair_key]\n",
    "                i+=2\n",
    "            else :\n",
    "                i+=1\n",
    "                current_val += numbers[val_key]\n",
    "\n",
    "        return current_val "
   ]
  }
 ],
 "metadata": {
  "kernelspec": {
   "display_name": "Python 3 (ipykernel)",
   "language": "python",
   "name": "python3"
  },
  "language_info": {
   "codemirror_mode": {
    "name": "ipython",
    "version": 3
   },
   "file_extension": ".py",
   "mimetype": "text/x-python",
   "name": "python",
   "nbconvert_exporter": "python",
   "pygments_lexer": "ipython3",
   "version": "3.11.3"
  }
 },
 "nbformat": 4,
 "nbformat_minor": 5
}
