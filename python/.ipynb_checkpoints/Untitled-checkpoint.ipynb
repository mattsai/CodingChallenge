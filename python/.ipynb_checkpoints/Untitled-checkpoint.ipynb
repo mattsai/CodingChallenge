{
 "cells": [
  {
   "cell_type": "markdown",
   "id": "fa4c5631",
   "metadata": {},
   "source": [
    "Given a string of lowercase letters in the range ascii[a-z], determine the index of a character that can be removed to make the string a palindrome. There may be more than one solution, but any will do. If the word is already a palindrome or there is no solution, return -1. Otherwise, return the index of a character to remove."
   ]
  },
  {
   "cell_type": "code",
   "execution_count": null,
   "id": "4ba28dd2",
   "metadata": {},
   "outputs": [],
   "source": [
    "def is_palindrome(s):\n",
    "    left,right = 0,len(s)-1\n",
    "    while left<right: \n",
    "        if s[left]!=s[right]: return False\n",
    "        left+=1\n",
    "        right-=1\n",
    "    return True\n",
    "    \n",
    "def palindromeIndex(s):\n",
    "#     if s == s[::-1] : return -1\n",
    "    left,right = 0,len(s)-1\n",
    "    index  = -1\n",
    "    while left<right: \n",
    "        # print(s[left],s[right])\n",
    "        if s[left] != s[right]:\n",
    "            if is_palindrome(s[left+1:right+1]):\n",
    "                return left\n",
    "            elif is_palindrome(s[left:right]):\n",
    "                return right\n",
    "            else:\n",
    "                return -1\n",
    "        left+=1\n",
    "        right-=1\n",
    "    return index\n",
    "            "
   ]
  }
 ],
 "metadata": {
  "kernelspec": {
   "display_name": "Python 3 (ipykernel)",
   "language": "python",
   "name": "python3"
  },
  "language_info": {
   "codemirror_mode": {
    "name": "ipython",
    "version": 3
   },
   "file_extension": ".py",
   "mimetype": "text/x-python",
   "name": "python",
   "nbconvert_exporter": "python",
   "pygments_lexer": "ipython3",
   "version": "3.11.3"
  }
 },
 "nbformat": 4,
 "nbformat_minor": 5
}
