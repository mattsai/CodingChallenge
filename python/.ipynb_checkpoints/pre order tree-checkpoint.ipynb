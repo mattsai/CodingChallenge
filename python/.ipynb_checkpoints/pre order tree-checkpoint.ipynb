{
 "cells": [
  {
   "cell_type": "code",
   "execution_count": null,
   "id": "8452f252",
   "metadata": {},
   "outputs": [],
   "source": []
  },
  {
   "cell_type": "code",
   "execution_count": null,
   "id": "6081a7c3",
   "metadata": {},
   "outputs": [],
   "source": []
  },
  {
   "cell_type": "code",
   "execution_count": null,
   "id": "5d2fc6b3",
   "metadata": {},
   "outputs": [],
   "source": [
    "# DFS LIST\n",
    "class Solution:\n",
    "    def preorderTraversal(self, root: Optional[TreeNode]) -> List[int]:\n",
    "\n",
    "        def dfs(node):\n",
    "            if not node: return []\n",
    "            ans = [node.val]\n",
    "            left = dfs(node.left)\n",
    "            right = dfs(node.right)\n",
    "            ans.extend(left)\n",
    "            ans.extend(right)\n",
    "            return ans\n",
    "        return dfs(root)\n",
    "            \n",
    "\n",
    "        "
   ]
  }
 ],
 "metadata": {
  "kernelspec": {
   "display_name": "Python 3 (ipykernel)",
   "language": "python",
   "name": "python3"
  },
  "language_info": {
   "codemirror_mode": {
    "name": "ipython",
    "version": 3
   },
   "file_extension": ".py",
   "mimetype": "text/x-python",
   "name": "python",
   "nbconvert_exporter": "python",
   "pygments_lexer": "ipython3",
   "version": "3.11.3"
  }
 },
 "nbformat": 4,
 "nbformat_minor": 5
}
