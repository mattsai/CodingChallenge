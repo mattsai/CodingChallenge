{
 "cells": [
  {
   "cell_type": "code",
   "execution_count": null,
   "id": "4ddf0bd2",
   "metadata": {},
   "outputs": [],
   "source": [
    "# Complete the 'gridChallenge' function below.\n",
    "#\n",
    "# The function is expected to return a STRING.\n",
    "# The function accepts STRING_ARRAY grid as parameter.\n",
    "#\n",
    "\n",
    "def gridChallenge(grid):\n",
    "    \n",
    "    sorted_rows = [sorted(row) for row in grid]\n",
    "    \n",
    "    \n",
    "    for col in range(len(sorted_rows[0])):\n",
    "        for row in range(1, len(sorted_rows)):\n",
    "            if sorted_rows[row][col] < sorted_rows[row - 1][col]:\n",
    "                return \"NO\"\n",
    "    \n",
    "    return \"YES\""
   ]
  }
 ],
 "metadata": {
  "kernelspec": {
   "display_name": "Python 3 (ipykernel)",
   "language": "python",
   "name": "python3"
  },
  "language_info": {
   "codemirror_mode": {
    "name": "ipython",
    "version": 3
   },
   "file_extension": ".py",
   "mimetype": "text/x-python",
   "name": "python",
   "nbconvert_exporter": "python",
   "pygments_lexer": "ipython3",
   "version": "3.11.3"
  }
 },
 "nbformat": 4,
 "nbformat_minor": 5
}
