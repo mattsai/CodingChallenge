{
 "cells": [
  {
   "cell_type": "code",
   "execution_count": null,
   "id": "53a2b19c",
   "metadata": {},
   "outputs": [],
   "source": [
    "def isSymmetric(self, root: Optional[TreeNode]) -> bool:\n",
    "\n",
    "        def dfs(n1,n2):\n",
    "            if not n1 and not n2 : return True\n",
    "            if not n1 or not n2 : return False\n",
    "            return n1.val == n2.val and  dfs(n1.left,n2.right) and dfs(n1.right , n2.left)\n",
    "                \n",
    " \n",
    "\n",
    "        return dfs(root.left,root.right)\n",
    "        "
   ]
  }
 ],
 "metadata": {
  "kernelspec": {
   "display_name": "Python 3 (ipykernel)",
   "language": "python",
   "name": "python3"
  },
  "language_info": {
   "codemirror_mode": {
    "name": "ipython",
    "version": 3
   },
   "file_extension": ".py",
   "mimetype": "text/x-python",
   "name": "python",
   "nbconvert_exporter": "python",
   "pygments_lexer": "ipython3",
   "version": "3.11.3"
  }
 },
 "nbformat": 4,
 "nbformat_minor": 5
}
