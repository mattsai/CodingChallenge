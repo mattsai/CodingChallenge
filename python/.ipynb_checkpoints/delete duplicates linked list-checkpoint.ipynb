{
 "cells": [
  {
   "cell_type": "code",
   "execution_count": null,
   "id": "1c0cbc6e",
   "metadata": {},
   "outputs": [],
   "source": [
    "def deleteDuplicates(self, head: Optional[ListNode]) -> Optional[ListNode]:\n",
    "        if not head: return head\n",
    "        prev = head\n",
    "        curr = head.next\n",
    "        while curr:\n",
    "            if prev.val == curr.val : \n",
    "                curr = curr.next\n",
    "                prev.next = curr\n",
    "            else:\n",
    "                prev = curr\n",
    "                curr = curr.next\n",
    "        return head "
   ]
  }
 ],
 "metadata": {
  "kernelspec": {
   "display_name": "Python 3 (ipykernel)",
   "language": "python",
   "name": "python3"
  },
  "language_info": {
   "codemirror_mode": {
    "name": "ipython",
    "version": 3
   },
   "file_extension": ".py",
   "mimetype": "text/x-python",
   "name": "python",
   "nbconvert_exporter": "python",
   "pygments_lexer": "ipython3",
   "version": "3.11.3"
  }
 },
 "nbformat": 4,
 "nbformat_minor": 5
}
