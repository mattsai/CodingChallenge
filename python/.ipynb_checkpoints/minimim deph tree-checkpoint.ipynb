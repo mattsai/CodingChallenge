{
 "cells": [
  {
   "cell_type": "code",
   "execution_count": null,
   "id": "dfce1cd0",
   "metadata": {},
   "outputs": [],
   "source": [
    "class Solution:\n",
    "    def minDepth(self, root: Optional[TreeNode]) -> int:\n",
    "        if not root: return 0 #edge case\n",
    "        queue = deque([(root, 1)])  \n",
    "        while queue:\n",
    "            node, depth = queue.popleft()  #O 1\n",
    "            if not node.left and not node.right:\n",
    "                return depth #Im a leaf\n",
    "\n",
    "            if node.left: #we dont care about the None left\n",
    "                queue.append((node.left, depth + 1))\n",
    "            if node.right: #or right\n",
    "                queue.append((node.right, depth + 1))"
   ]
  },
  {
   "cell_type": "code",
   "execution_count": null,
   "id": "69d7f579",
   "metadata": {},
   "outputs": [],
   "source": [
    "# Definition for a binary tree node.\n",
    "# class TreeNode:\n",
    "#     def __init__(self, val=0, left=None, right=None):\n",
    "#         self.val = val\n",
    "#         self.left = left\n",
    "#         self.right = right\n",
    "class Solution:\n",
    "    def minDepth(self, root: Optional[TreeNode]) -> int:\n",
    "        if not root: return 0\n",
    "        def dfs(node):\n",
    "            if not node : return float('inf') #im None, my parent should get Nothing .> inf\n",
    "            # if node.left != None:\n",
    "\n",
    "            \n",
    "\n",
    "            l = dfs(node.left) \n",
    "            r = dfs(node.right) \n",
    "            if not node.left and  not node.right: # im a  leaf \n",
    "                 return 1\n",
    "\n",
    "            d = min(l,r)+1 #left branch and right branch, get the minimum +1 (+1 himself)\n",
    "            return d\n",
    "\n",
    "        return dfs(root)"
   ]
  }
 ],
 "metadata": {
  "kernelspec": {
   "display_name": "Python 3 (ipykernel)",
   "language": "python",
   "name": "python3"
  },
  "language_info": {
   "codemirror_mode": {
    "name": "ipython",
    "version": 3
   },
   "file_extension": ".py",
   "mimetype": "text/x-python",
   "name": "python",
   "nbconvert_exporter": "python",
   "pygments_lexer": "ipython3",
   "version": "3.11.3"
  }
 },
 "nbformat": 4,
 "nbformat_minor": 5
}
