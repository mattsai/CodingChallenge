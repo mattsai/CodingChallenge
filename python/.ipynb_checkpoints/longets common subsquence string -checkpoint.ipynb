{
 "cells": [
  {
   "cell_type": "code",
   "execution_count": null,
   "id": "4e409745",
   "metadata": {},
   "outputs": [],
   "source": [
    "    def longestCommonSubsequence(self, text1: str, text2: str) -> int:\n",
    "        ans = 0\n",
    "        memo = {}\n",
    "        def dfs(i,j,length):\n",
    "            nonlocal ans\n",
    "\n",
    "            if (i,j) in memo :\n",
    "                return memo[(i,j)]\n",
    "\n",
    "            if i == len(text1) or j==len(text2):\n",
    "                return 0\n",
    "            # print(text1[i],text2[j])\n",
    "            if text1[i] == text2[j] : \n",
    "                ans = 1+dfs(i+1,j+1,length+1)\n",
    "            else:\n",
    "              ans = max(dfs(i+1,j,length),dfs(i,j+1,length))\n",
    "            memo[(i,j)] =ans\n",
    "            return ans\n",
    "            \n",
    "            \n",
    "\n",
    "        return dfs(0,0,0)"
   ]
  },
  {
   "cell_type": "code",
   "execution_count": null,
   "id": "5e42d3dd",
   "metadata": {},
   "outputs": [],
   "source": [
    "def dfs(i, j):\n",
    "        if (i, j) in memo:\n",
    "            return memo[(i, j)]\n",
    "        \n",
    "        if i == len(text1) or j == len(text2):\n",
    "            result = 0\n",
    "        elif text1[i] == text2[j]:\n",
    "            result = 1 + dfs(i + 1, j + 1)\n",
    "        else:\n",
    "            result = max(dfs(i + 1, j), dfs(i, j + 1))\n",
    "        memo[(i, j)] = result\n",
    "        return result"
   ]
  }
 ],
 "metadata": {
  "kernelspec": {
   "display_name": "Python 3 (ipykernel)",
   "language": "python",
   "name": "python3"
  },
  "language_info": {
   "codemirror_mode": {
    "name": "ipython",
    "version": 3
   },
   "file_extension": ".py",
   "mimetype": "text/x-python",
   "name": "python",
   "nbconvert_exporter": "python",
   "pygments_lexer": "ipython3",
   "version": "3.11.3"
  }
 },
 "nbformat": 4,
 "nbformat_minor": 5
}
