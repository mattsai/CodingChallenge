{
 "cells": [
  {
   "cell_type": "code",
   "execution_count": 6,
   "id": "22b97b7d",
   "metadata": {},
   "outputs": [
    {
     "data": {
      "text/plain": [
       "'efonf vob dibncb qps gbwps'"
      ]
     },
     "execution_count": 6,
     "metadata": {},
     "output_type": "execute_result"
    }
   ],
   "source": [
    "def caesarCipher(s, k):\n",
    "    ans = \"\"\n",
    "    for char in s : \n",
    "        cp = ord(char)\n",
    "        if 65<=cp<=90:\n",
    "            new_index = (cp - 65 + k) % 26\n",
    "            ans += chr(new_index + 65)\n",
    "        elif 97 <= cp <= 122 :\n",
    "            new_index = (cp - 97+ k) % 26\n",
    "            ans += chr(new_index + 97)\n",
    "        else:\n",
    "            ans+=char\n",
    "    return ans\n",
    "caesarCipher(\"asdasd\",5)\n",
    "# caesarCipher(\"denme una chamba por favor\",0)\n",
    "# caesarCipher(\"denme una chamba por favor\",26)\n",
    "caesarCipher(\"denme una chamba por favor\",1)"
   ]
  }
 ],
 "metadata": {
  "kernelspec": {
   "display_name": "Python 3 (ipykernel)",
   "language": "python",
   "name": "python3"
  },
  "language_info": {
   "codemirror_mode": {
    "name": "ipython",
    "version": 3
   },
   "file_extension": ".py",
   "mimetype": "text/x-python",
   "name": "python",
   "nbconvert_exporter": "python",
   "pygments_lexer": "ipython3",
   "version": "3.11.3"
  }
 },
 "nbformat": 4,
 "nbformat_minor": 5
}
