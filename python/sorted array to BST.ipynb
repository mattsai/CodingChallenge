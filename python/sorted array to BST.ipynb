{
 "cells": [
  {
   "cell_type": "code",
   "execution_count": null,
   "id": "0a15e44d",
   "metadata": {},
   "outputs": [],
   "source": [
    " def sortedArrayToBST(self, nums: List[int]) -> Optional[TreeNode]:\n",
    "        # n = len(nums)\n",
    "        # mid = n//2\n",
    "        # left_tree = root =  TreeNode(nums[mid])\n",
    "        # right = nums[mid+1:]\n",
    "        # left = nums[:mid]\n",
    "        \n",
    "\n",
    "        def dfs(arr):\n",
    "            mid = len(arr) //2 \n",
    "            node = TreeNode(arr[mid]) \n",
    "            right = arr[mid+1:]\n",
    "            left = arr[:mid]\n",
    "            if left: \n",
    "                node.left = dfs(arr[:mid])\n",
    "\n",
    "            if right: \n",
    "                node.right = dfs(arr[mid+1:])\n",
    "\n",
    "            return node \n",
    "\n",
    "        return dfs(nums)\n",
    "        # root.left = dfs(left,root)\n",
    "        # dfs(right,root)\n",
    "            # return node\n",
    "\n",
    "\n",
    "        #[-10,-3,0,5,9]\n",
    "        #  2  = 0 \n",
    "        #[-10,-3]\n"
   ]
  }
 ],
 "metadata": {
  "kernelspec": {
   "display_name": "Python 3 (ipykernel)",
   "language": "python",
   "name": "python3"
  },
  "language_info": {
   "codemirror_mode": {
    "name": "ipython",
    "version": 3
   },
   "file_extension": ".py",
   "mimetype": "text/x-python",
   "name": "python",
   "nbconvert_exporter": "python",
   "pygments_lexer": "ipython3",
   "version": "3.11.3"
  }
 },
 "nbformat": 4,
 "nbformat_minor": 5
}
