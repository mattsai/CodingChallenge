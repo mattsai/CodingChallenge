{
 "cells": [
  {
   "cell_type": "code",
   "execution_count": null,
   "id": "cf6f106b",
   "metadata": {},
   "outputs": [],
   "source": [
    "def permuteUnique(self, nums: List[int]) -> List[List[int]]:\n",
    "        counter = {}\n",
    "        for value in nums:\n",
    "            if value not in counter:\n",
    "                counter[value] = 1\n",
    "            else:\n",
    "                counter[value]+=1\n",
    "        # print(counter)\n",
    "        def dfs(counter,path):\n",
    "            if len(path) == len(nums):\n",
    "                res.append(path[:])\n",
    "                return\n",
    "\n",
    "            for value in counter:\n",
    "                if counter[value] > 0 :\n",
    "                    counter[value]-=1\n",
    "                    dfs(counter,path+[value])\n",
    "                    counter[value]+=1\n",
    "\n",
    "        res = []\n",
    "        dfs(counter,[])\n",
    "        return res"
   ]
  }
 ],
 "metadata": {
  "kernelspec": {
   "display_name": "Python 3 (ipykernel)",
   "language": "python",
   "name": "python3"
  },
  "language_info": {
   "codemirror_mode": {
    "name": "ipython",
    "version": 3
   },
   "file_extension": ".py",
   "mimetype": "text/x-python",
   "name": "python",
   "nbconvert_exporter": "python",
   "pygments_lexer": "ipython3",
   "version": "3.11.3"
  }
 },
 "nbformat": 4,
 "nbformat_minor": 5
}
