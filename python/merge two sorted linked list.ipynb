{
 "cells": [
  {
   "cell_type": "code",
   "execution_count": null,
   "id": "81449c99",
   "metadata": {},
   "outputs": [],
   "source": [
    "# Definition for singly-linked list.\n",
    "# class ListNode:\n",
    "#     def __init__(self, val=0, next=None):\n",
    "#         self.val = val\n",
    "#         self.next = next\n",
    "class Solution:\n",
    "    def mergeTwoLists(self, list1: Optional[ListNode], list2: Optional[ListNode]) -> Optional[ListNode]:\n",
    "        head = current = ListNode()\n",
    "        while True : \n",
    "            \n",
    "            if not list1 and not list2 : \n",
    "                break\n",
    "\n",
    "            if not list1 and list2 : \n",
    "                current.next = list2\n",
    "                break\n",
    "\n",
    "            if not list2 and list1 : \n",
    "                current.next = list1\n",
    "                break\n",
    "\n",
    "            v1,v2 = list1.val , list2.val\n",
    "\n",
    "            if v1 <= v2:\n",
    "                current.next = list1\n",
    "                list1 = list1.next\n",
    "            else:\n",
    "                current.next = list2\n",
    "                list2 = list2.next\n",
    "            current = current.next\n",
    "        # print(head.next)\n",
    "        return head.next\n",
    "\n",
    "            "
   ]
  }
 ],
 "metadata": {
  "kernelspec": {
   "display_name": "Python 3 (ipykernel)",
   "language": "python",
   "name": "python3"
  },
  "language_info": {
   "codemirror_mode": {
    "name": "ipython",
    "version": 3
   },
   "file_extension": ".py",
   "mimetype": "text/x-python",
   "name": "python",
   "nbconvert_exporter": "python",
   "pygments_lexer": "ipython3",
   "version": "3.11.3"
  }
 },
 "nbformat": 4,
 "nbformat_minor": 5
}
