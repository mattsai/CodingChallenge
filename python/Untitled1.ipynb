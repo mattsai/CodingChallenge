{
 "cells": [
  {
   "cell_type": "code",
   "execution_count": 1,
   "id": "b85b964d",
   "metadata": {},
   "outputs": [
    {
     "data": {
      "text/plain": [
       "2.0"
      ]
     },
     "execution_count": 1,
     "metadata": {},
     "output_type": "execute_result"
    }
   ],
   "source": [
    "def calcular_raiz_cuadrada(numero, iteraciones=1000):\n",
    "    # Suponemos una estimación inicial\n",
    "    estimacion = numero / 2.0\n",
    "\n",
    "    # Realizamos iteraciones para refinar la estimación\n",
    "    for _ in range(iteraciones):\n",
    "        estimacion = (estimacion + numero / estimacion) / 2.0\n",
    "\n",
    "    return estimacion\n",
    "calcular_raiz_cuadrada(4)"
   ]
  }
 ],
 "metadata": {
  "kernelspec": {
   "display_name": "Python 3 (ipykernel)",
   "language": "python",
   "name": "python3"
  },
  "language_info": {
   "codemirror_mode": {
    "name": "ipython",
    "version": 3
   },
   "file_extension": ".py",
   "mimetype": "text/x-python",
   "name": "python",
   "nbconvert_exporter": "python",
   "pygments_lexer": "ipython3",
   "version": "3.11.3"
  }
 },
 "nbformat": 4,
 "nbformat_minor": 5
}
