{
 "cells": [
  {
   "cell_type": "code",
   "execution_count": null,
   "id": "25edb820",
   "metadata": {},
   "outputs": [],
   "source": [
    "def isBalanced(self, root: Optional[TreeNode]) -> bool: \n",
    "        if not root: return True\n",
    "        ans = True      \n",
    "        def dfs(node) :\n",
    "            nonlocal ans\n",
    "\n",
    "            if not node :return 0\n",
    "            l = dfs(node.left)\n",
    "            r = dfs(node.right)\n",
    "            # if isinstance(l,bool) or isinstance(r,bool) :return False     \n",
    "\n",
    "            if abs(l-r) > 1 : \n",
    "                ans = False\n",
    "                # return False\n",
    "\n",
    "            return max(l,r)+1\n",
    "            \n",
    "        dfs(root)\n",
    "        return ans\n",
    "        # return False if not dfs(root) else True \n",
    "\n",
    "        # dfs(root)\n",
    "        # return ans"
   ]
  }
 ],
 "metadata": {
  "kernelspec": {
   "display_name": "Python 3 (ipykernel)",
   "language": "python",
   "name": "python3"
  },
  "language_info": {
   "codemirror_mode": {
    "name": "ipython",
    "version": 3
   },
   "file_extension": ".py",
   "mimetype": "text/x-python",
   "name": "python",
   "nbconvert_exporter": "python",
   "pygments_lexer": "ipython3",
   "version": "3.11.3"
  }
 },
 "nbformat": 4,
 "nbformat_minor": 5
}
