{
 "cells": [
  {
   "cell_type": "code",
   "execution_count": null,
   "id": "41956125",
   "metadata": {},
   "outputs": [],
   "source": [
    "class Solution:\n",
    "    def rotate(self, matrix: List[List[int]]) -> None:\n",
    "        \"\"\"\n",
    "        Do not return anything, modify matrix in-place instead.\n",
    "        \"\"\"\n",
    "        l ,r = 0 , len(matrix)-1\n",
    "        \n",
    "        cycle = len(matrix)-1\n",
    "        while l < r : \n",
    "            #top\n",
    "            for i in range(cycle) : \n",
    "\n",
    "\n",
    "                top_left = matrix[l][l+i]\n",
    "\n",
    "                #top left = bottom_left\n",
    "                matrix[l][l+i]  = matrix[r-i][l]\n",
    "                 \n",
    "                #bottom_left = bottom_right \n",
    "                matrix[r-i][l] = matrix[r][r-i]\n",
    "\n",
    "                #bottom_right  = top_right\n",
    "                matrix[r][r-i] = matrix[l+i][r]\n",
    "\n",
    "                #top_right - previous top_left\n",
    "                matrix[l+i][r] = top_left\n",
    "\n",
    "            l+=1\n",
    "            r-=1\n",
    "            cycle-=2\n"
   ]
  }
 ],
 "metadata": {
  "kernelspec": {
   "display_name": "Python 3 (ipykernel)",
   "language": "python",
   "name": "python3"
  },
  "language_info": {
   "codemirror_mode": {
    "name": "ipython",
    "version": 3
   },
   "file_extension": ".py",
   "mimetype": "text/x-python",
   "name": "python",
   "nbconvert_exporter": "python",
   "pygments_lexer": "ipython3",
   "version": "3.11.3"
  }
 },
 "nbformat": 4,
 "nbformat_minor": 5
}
