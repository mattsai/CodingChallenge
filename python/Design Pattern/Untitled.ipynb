{
 "cells": [
  {
   "cell_type": "code",
   "execution_count": 15,
   "id": "2e90823b",
   "metadata": {},
   "outputs": [
    {
     "name": "stdout",
     "output_type": "stream",
     "text": [
      "Yei\n"
     ]
    },
    {
     "data": {
      "text/plain": [
       "'hey'"
      ]
     },
     "execution_count": 15,
     "metadata": {},
     "output_type": "execute_result"
    }
   ],
   "source": [
    "class Singleton:\n",
    "    _instance = None\n",
    "    def __new__(cls,*args,**kwargs):\n",
    "        if cls._instance is None:\n",
    "            cls._instance = super(Singleton,cls).__new__(cls,*args,**kwargs)\n",
    "            cls._instance.init_singleton()\n",
    "        return cls._instance\n",
    "    \n",
    "    def init_singleton(cls):\n",
    "        val = None\n",
    "        print('Yei')\n",
    "\n",
    "        \n",
    "s1 = Singleton()\n",
    "s1.value = \"hey\"\n",
    "\n",
    "s2 = Singleton()\n",
    "\n",
    "s2.value\n",
    "        "
   ]
  }
 ],
 "metadata": {
  "kernelspec": {
   "display_name": "Python 3 (ipykernel)",
   "language": "python",
   "name": "python3"
  },
  "language_info": {
   "codemirror_mode": {
    "name": "ipython",
    "version": 3
   },
   "file_extension": ".py",
   "mimetype": "text/x-python",
   "name": "python",
   "nbconvert_exporter": "python",
   "pygments_lexer": "ipython3",
   "version": "3.11.3"
  }
 },
 "nbformat": 4,
 "nbformat_minor": 5
}
