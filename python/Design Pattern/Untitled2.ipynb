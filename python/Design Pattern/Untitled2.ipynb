{
 "cells": [
  {
   "cell_type": "code",
   "execution_count": 3,
   "id": "951e27e6",
   "metadata": {},
   "outputs": [
    {
     "data": {
      "text/plain": [
       "Something(x='xd', y=2)"
      ]
     },
     "execution_count": 3,
     "metadata": {},
     "output_type": "execute_result"
    }
   ],
   "source": [
    "from dataclasses import dataclass\n",
    "@dataclass\n",
    "class Something:\n",
    "    x: str\n",
    "    y: int\n",
    "        \n",
    "a = Something('xd',2)\n",
    "a"
   ]
  },
  {
   "cell_type": "code",
   "execution_count": 24,
   "id": "b14e326e",
   "metadata": {},
   "outputs": [
    {
     "name": "stdout",
     "output_type": "stream",
     "text": [
      "setter\n",
      "name getter\n",
      "deletting\n"
     ]
    }
   ],
   "source": [
    "class JustPlaying: \n",
    "    def __init__(self,x):\n",
    "        self.x = x\n",
    "    \n",
    "    @property\n",
    "    def name(self):\n",
    "        print(\"property\")\n",
    "        return self.x\n",
    "    \n",
    "    @name.setter\n",
    "    def name(self,y):\n",
    "        print('setter')\n",
    "        self.x = y\n",
    "    \n",
    "    @name.getter\n",
    "    def name(self):\n",
    "        print(\"name getter\")\n",
    "        return self.x\n",
    "    \n",
    "    @name.deleter\n",
    "    def name(self):\n",
    "        print('deletting')\n",
    "        del self.x\n",
    "a = JustPlaying('xd')\n",
    "a.name = \"xd\"\n",
    "a.name\n",
    "del a.name"
   ]
  }
 ],
 "metadata": {
  "kernelspec": {
   "display_name": "Python 3 (ipykernel)",
   "language": "python",
   "name": "python3"
  },
  "language_info": {
   "codemirror_mode": {
    "name": "ipython",
    "version": 3
   },
   "file_extension": ".py",
   "mimetype": "text/x-python",
   "name": "python",
   "nbconvert_exporter": "python",
   "pygments_lexer": "ipython3",
   "version": "3.11.3"
  }
 },
 "nbformat": 4,
 "nbformat_minor": 5
}
