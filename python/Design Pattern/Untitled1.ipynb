{
 "cells": [
  {
   "cell_type": "code",
   "execution_count": 41,
   "id": "f7fd5af3",
   "metadata": {},
   "outputs": [
    {
     "data": {
      "text/plain": [
       "[[1, 1, 2], [1, 2, 1], [2, 1, 1]]"
      ]
     },
     "execution_count": 41,
     "metadata": {},
     "output_type": "execute_result"
    }
   ],
   "source": [
    "from collections import Counter\n",
    "def permuteUniquex(nums: List[int]) -> List[List[int]]:\n",
    "        def backtrack(remaining, path):\n",
    "#             print(remaining)\n",
    "            if len(path)==len(nums):\n",
    "                res.append(path.copy())\n",
    "                return\n",
    "            for num in remaining:\n",
    "                if remaining[num] > 0:\n",
    "                    remaining[num] -= 1\n",
    "                    backtrack(remaining, path + [num])\n",
    "                    remaining[num] += 1\n",
    "\n",
    "        count =  { x:0 for x in nums}\n",
    "        for x in nums:\n",
    "            count[x] +=1\n",
    "        res = []\n",
    "        backtrack(count, [])\n",
    "        return res\n",
    "permuteUniquex(a)"
   ]
  },
  {
   "cell_type": "code",
   "execution_count": 18,
   "id": "4573b59c",
   "metadata": {},
   "outputs": [
    {
     "data": {
      "text/plain": [
       "[[1, 2, 1], [2, 1, 1], [1, 1, 2]]"
      ]
     },
     "execution_count": 18,
     "metadata": {},
     "output_type": "execute_result"
    }
   ],
   "source": [
    "def permuteUnique(nums: List[int]) -> List[List[int]]:\n",
    "        def backtrack(nums, path):\n",
    "            if not nums:\n",
    "                res.add(tuple(path))\n",
    "                return\n",
    "            for i in range(len(nums)):\n",
    "                backtrack(nums[:i] + nums[i + 1:], path + [nums[i]])\n",
    "\n",
    "        res = set()\n",
    "        backtrack(nums, [])\n",
    "        return [list(p) for p in res]\n",
    "    \n",
    "permuteUnique(a)"
   ]
  },
  {
   "cell_type": "code",
   "execution_count": 9,
   "id": "e889471d",
   "metadata": {},
   "outputs": [
    {
     "data": {
      "text/plain": [
       "[(1, 2, 1), (2, 1, 1), (1, 1, 2)]"
      ]
     },
     "execution_count": 9,
     "metadata": {},
     "output_type": "execute_result"
    }
   ],
   "source": [
    "from typing import List\n",
    "from itertools import permutations\n",
    "def permuteUnique(nums: List[int]) -> List[List[int]]:\n",
    "    return list(set(permutations(nums)))\n",
    "a = [1,1,2]\n",
    "permuteUnique(a)"
   ]
  }
 ],
 "metadata": {
  "kernelspec": {
   "display_name": "Python 3 (ipykernel)",
   "language": "python",
   "name": "python3"
  },
  "language_info": {
   "codemirror_mode": {
    "name": "ipython",
    "version": 3
   },
   "file_extension": ".py",
   "mimetype": "text/x-python",
   "name": "python",
   "nbconvert_exporter": "python",
   "pygments_lexer": "ipython3",
   "version": "3.11.3"
  }
 },
 "nbformat": 4,
 "nbformat_minor": 5
}
