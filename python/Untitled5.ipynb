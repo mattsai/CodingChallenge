{
 "cells": [
  {
   "cell_type": "code",
   "execution_count": 101,
   "id": "b35bd7f7",
   "metadata": {},
   "outputs": [
    {
     "name": "stdout",
     "output_type": "stream",
     "text": [
      "[1, 1, 2, 0, 0, 0]\n",
      "[1, 1, 2, 3, 0, 0]\n",
      "[1, 1, 2, 3, 3, 0]\n",
      "[1, 1, 2, 3, 3, 6]\n",
      "Número de formas de decodificar: 6\n"
     ]
    }
   ],
   "source": [
    "def numDecodings(S):\n",
    "    N = len(S)\n",
    "    dp = [0] * (N + 1)\n",
    "    dp[0] = 1\n",
    "    dp[1] = 1 if S[0] != '0' else 0\n",
    "\n",
    "    for i in range(2, N + 1):\n",
    "        one_digit = int(S[i - 1:i]) \n",
    "        two_digits = int(S[i - 2:i])\n",
    "\n",
    "        if 1 <= one_digit <= 9:\n",
    "            dp[i] += dp[i - 1]\n",
    "        if 10 <= two_digits <= 26:\n",
    "            dp[i] += dp[i - 2]\n",
    "        print(dp)\n",
    "    return dp[N]\n",
    "\n",
    "# Ejemplo con la cadena \"1262\"\n",
    "resultado = numDecodings(\"12612\")\n",
    "print(\"Número de formas de decodificar:\", resultado)\n"
   ]
  },
  {
   "cell_type": "code",
   "execution_count": 79,
   "id": "4cb7b2a4",
   "metadata": {
    "scrolled": true
   },
   "outputs": [
    {
     "ename": "TypeError",
     "evalue": "'int' object is not iterable",
     "output_type": "error",
     "traceback": [
      "\u001b[1;31m---------------------------------------------------------------------------\u001b[0m",
      "\u001b[1;31mTypeError\u001b[0m                                 Traceback (most recent call last)",
      "Cell \u001b[1;32mIn[79], line 1\u001b[0m\n\u001b[1;32m----> 1\u001b[0m \u001b[43m[\u001b[49m\u001b[43m]\u001b[49m\u001b[38;5;241;43m.\u001b[39;49m\u001b[43mextend\u001b[49m\u001b[43m(\u001b[49m\u001b[38;5;241;43m2\u001b[39;49m\u001b[43m)\u001b[49m\n",
      "\u001b[1;31mTypeError\u001b[0m: 'int' object is not iterable"
     ]
    }
   ],
   "source": [
    "[].extend(2)"
   ]
  },
  {
   "cell_type": "code",
   "execution_count": 87,
   "id": "81ef44dd",
   "metadata": {},
   "outputs": [
    {
     "data": {
      "text/plain": [
       "[1,\n",
       " 2,\n",
       " 3,\n",
       " 4,\n",
       " 5,\n",
       " 10,\n",
       " 15,\n",
       " 20,\n",
       " 1,\n",
       " 2,\n",
       " 2,\n",
       " 2,\n",
       " 2,\n",
       " 6,\n",
       " 11,\n",
       " 16,\n",
       " 7,\n",
       " 8,\n",
       " 9,\n",
       " 14,\n",
       " 19,\n",
       " 18,\n",
       " 17,\n",
       " 12,\n",
       " 13]"
      ]
     },
     "execution_count": 87,
     "metadata": {},
     "output_type": "execute_result"
    }
   ],
   "source": [
    "inputMatrix = [\n",
    "    [1, 2, 3, 4, 5],\n",
    "    [6, 7, 8, 9, 10],\n",
    "    [11, 12, 13, 14, 15],\n",
    "    [16, 17, 18, 19, 20],\n",
    "    [2, 2, 2, 2, 1],\n",
    "]\n",
    "r = []\n",
    "while inputMatrix:\n",
    "    left_top = inputMatrix.pop(0)\n",
    "    r.extend(left_top)\n",
    "    \n",
    "    if not inputMatrix: break\n",
    "    for row in inputMatrix:\n",
    "        r.append(row.pop())\n",
    "        \n",
    "    if not inputMatrix: break\n",
    "    last_row = inputMatrix.pop()\n",
    "    r.extend(last_row[::-1])\n",
    "    \n",
    "    if not inputMatrix: break\n",
    "    for row in inputMatrix:\n",
    "        r.append(row.pop(0))\n",
    "r"
   ]
  },
  {
   "cell_type": "code",
   "execution_count": 75,
   "id": "b0cb3095",
   "metadata": {},
   "outputs": [
    {
     "name": "stdout",
     "output_type": "stream",
     "text": [
      "[1, 2, 3, 4, 5, 10, 15, 20, 1, 2, 2, 2, 2, 16, 11, 6, 7, 8, 9, 14, 19, 18, 17, 12, 13]\n"
     ]
    }
   ],
   "source": [
    "def spiral_copy(inputMatrix):\n",
    "    visited = set()\n",
    "    ROWS = len(inputMatrix)-1\n",
    "    COLS = len(inputMatrix[0])-1\n",
    "    r = []\n",
    "    \n",
    "    def out_of_bounds(x, y):\n",
    "        \n",
    "        return x < 0 or y < 0 or x> ROWS  or y > COLS\n",
    "\n",
    "    def dfs(x, y,index):\n",
    "\n",
    "        if (x, y) in visited or out_of_bounds( x, y):\n",
    "            return\n",
    "        r.append(inputMatrix[x][y])\n",
    "        visited.add((x, y))\n",
    "        \n",
    "        position = [\n",
    "            (0, 1), \n",
    "            (1, 0),\n",
    "            (0, -1),\n",
    "            (-1, 0)\n",
    "        ]\n",
    "       \n",
    "        for _ in range(4):\n",
    "            new_x = x + position[index][0]\n",
    "            new_y = y + position[index][1]\n",
    "            dfs(new_x, new_y, index )\n",
    "            index = (index + 1) % 4  # Cambiar dirección\n",
    "    \n",
    "\n",
    "    dfs(0, 0,0)\n",
    "#     print(r)\n",
    "    return r\n",
    "\n",
    "inputMatrix = [\n",
    "    [1, 2, 3, 4, 5],\n",
    "    [6, 7, 8, 9, 10],\n",
    "    [11, 12, 13, 14, 15],\n",
    "    [16, 17, 18, 19, 20],\n",
    "    [2, 2, 2, 2, 1],\n",
    "]\n",
    "\n",
    "x = spiral_copy(inputMatrix)\n",
    "print(x)\n"
   ]
  }
 ],
 "metadata": {
  "kernelspec": {
   "display_name": "Python 3 (ipykernel)",
   "language": "python",
   "name": "python3"
  },
  "language_info": {
   "codemirror_mode": {
    "name": "ipython",
    "version": 3
   },
   "file_extension": ".py",
   "mimetype": "text/x-python",
   "name": "python",
   "nbconvert_exporter": "python",
   "pygments_lexer": "ipython3",
   "version": "3.11.3"
  }
 },
 "nbformat": 4,
 "nbformat_minor": 5
}
