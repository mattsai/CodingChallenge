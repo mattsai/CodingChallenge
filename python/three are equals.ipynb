{
 "cells": [
  {
   "cell_type": "code",
   "execution_count": null,
   "id": "2187fc49",
   "metadata": {},
   "outputs": [],
   "source": [
    "def isSameTree(self, p: Optional[TreeNode], q: Optional[TreeNode]) -> bool:\n",
    "        q1,q2 = [p],[q]\n",
    "        while q1 and q2 : \n",
    "            n1,n2 = q1.pop(0), q2.pop(0)\n",
    "            \n",
    "            if not n1 and not n2 : \n",
    "                continue\n",
    "\n",
    "            if not n1 or not n2 : \n",
    "                return False\n",
    "            if n1.val != n2.val :\n",
    "                 return False\n",
    "\n",
    "            if n1:\n",
    "                q1.append(n1.left)\n",
    "                q1.append(n1.right)\n",
    "            if n2:\n",
    "                q2.append(n2.left)\n",
    "                q2.append(n2.right)\n",
    "        return True"
   ]
  }
 ],
 "metadata": {
  "kernelspec": {
   "display_name": "Python 3 (ipykernel)",
   "language": "python",
   "name": "python3"
  },
  "language_info": {
   "codemirror_mode": {
    "name": "ipython",
    "version": 3
   },
   "file_extension": ".py",
   "mimetype": "text/x-python",
   "name": "python",
   "nbconvert_exporter": "python",
   "pygments_lexer": "ipython3",
   "version": "3.11.3"
  }
 },
 "nbformat": 4,
 "nbformat_minor": 5
}
