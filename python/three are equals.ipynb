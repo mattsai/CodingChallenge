{
 "cells": [
  {
   "cell_type": "code",
   "execution_count": 1,
   "id": "8e03b533",
   "metadata": {},
   "outputs": [
    {
     "ename": "KeyboardInterrupt",
     "evalue": "",
     "output_type": "error",
     "traceback": [
      "\u001b[1;31m---------------------------------------------------------------------------\u001b[0m",
      "\u001b[1;31mKeyboardInterrupt\u001b[0m                         Traceback (most recent call last)",
      "Cell \u001b[1;32mIn[1], line 41\u001b[0m\n\u001b[0;32m     38\u001b[0m draw_sunflower()\n\u001b[0;32m     40\u001b[0m \u001b[38;5;66;03m# Mostrar el dibujo\u001b[39;00m\n\u001b[1;32m---> 41\u001b[0m \u001b[43mwn\u001b[49m\u001b[38;5;241;43m.\u001b[39;49m\u001b[43mmainloop\u001b[49m\u001b[43m(\u001b[49m\u001b[43m)\u001b[49m\n",
      "File \u001b[1;32m~\\AppData\\Local\\Programs\\Python\\Python311\\Lib\\turtle.py:812\u001b[0m, in \u001b[0;36mTurtleScreenBase.mainloop\u001b[1;34m(self)\u001b[0m\n\u001b[0;32m    799\u001b[0m \u001b[38;5;28;01mdef\u001b[39;00m \u001b[38;5;21mmainloop\u001b[39m(\u001b[38;5;28mself\u001b[39m):\n\u001b[0;32m    800\u001b[0m \u001b[38;5;250m    \u001b[39m\u001b[38;5;124;03m\"\"\"Starts event loop - calling Tkinter's mainloop function.\u001b[39;00m\n\u001b[0;32m    801\u001b[0m \n\u001b[0;32m    802\u001b[0m \u001b[38;5;124;03m    No argument.\u001b[39;00m\n\u001b[1;32m   (...)\u001b[0m\n\u001b[0;32m    810\u001b[0m \n\u001b[0;32m    811\u001b[0m \u001b[38;5;124;03m    \"\"\"\u001b[39;00m\n\u001b[1;32m--> 812\u001b[0m     \u001b[38;5;28;43mself\u001b[39;49m\u001b[38;5;241;43m.\u001b[39;49m\u001b[43mcv\u001b[49m\u001b[38;5;241;43m.\u001b[39;49m\u001b[43mtk\u001b[49m\u001b[38;5;241;43m.\u001b[39;49m\u001b[43mmainloop\u001b[49m\u001b[43m(\u001b[49m\u001b[43m)\u001b[49m\n",
      "\u001b[1;31mKeyboardInterrupt\u001b[0m: "
     ]
    }
   ],
   "source": [
    "import turtle\n",
    "import math\n",
    "\n",
    "# Configurar la pantalla de dibujo\n",
    "wn = turtle.Screen()\n",
    "wn.bgcolor(\"sky blue\")\n",
    "\n",
    "# Crear un objeto Turtle\n",
    "t = turtle.Turtle()\n",
    "t.speed(0)  # Velocidad máxima\n",
    "\n",
    "# Función para dibujar un pétalo\n",
    "def draw_petal():\n",
    "    t.color(\"orange\")\n",
    "    t.begin_fill()\n",
    "    t.circle(50, 60)\n",
    "    t.left(120)\n",
    "    t.circle(50, 60)\n",
    "    t.end_fill()\n",
    "\n",
    "# Función para dibujar el girasol\n",
    "def draw_sunflower():\n",
    "    # Dibuja el centro del girasol\n",
    "    t.penup()\n",
    "    t.goto(0, -100)\n",
    "    t.pendown()\n",
    "    t.color(\"brown\")\n",
    "    t.begin_fill()\n",
    "    t.circle(100)\n",
    "    t.end_fill()\n",
    "\n",
    "    # Dibuja los pétalos del girasol\n",
    "    for _ in range(12):\n",
    "        draw_petal()\n",
    "        t.right(30)\n",
    "\n",
    "# Dibujar el girasol\n",
    "draw_sunflower()\n",
    "\n",
    "# Mostrar el dibujo\n",
    "wn.mainloop()"
   ]
  },
  {
   "cell_type": "code",
   "execution_count": null,
   "id": "cb5ac657",
   "metadata": {},
   "outputs": [],
   "source": [
    "def isSameTree(self, p: Optional[TreeNode], q: Optional[TreeNode]) -> bool:\n",
    "        q1,q2 = [p],[q]\n",
    "        while q1 and q2 : \n",
    "            n1,n2 = q1.pop(0), q2.pop(0)\n",
    "            \n",
    "            if not n1 and not n2 : \n",
    "                continue\n",
    "\n",
    "            if not n1 or not n2 : \n",
    "                return False\n",
    "            if n1.val != n2.val :\n",
    "                 return False\n",
    "\n",
    "            if n1:\n",
    "                q1.append(n1.left)\n",
    "                q1.append(n1.right)\n",
    "            if n2:\n",
    "                q2.append(n2.left)\n",
    "                q2.append(n2.right)\n",
    "        return True"
   ]
  }
 ],
 "metadata": {
  "kernelspec": {
   "display_name": "Python 3 (ipykernel)",
   "language": "python",
   "name": "python3"
  },
  "language_info": {
   "codemirror_mode": {
    "name": "ipython",
    "version": 3
   },
   "file_extension": ".py",
   "mimetype": "text/x-python",
   "name": "python",
   "nbconvert_exporter": "python",
   "pygments_lexer": "ipython3",
   "version": "3.11.3"
  }
 },
 "nbformat": 4,
 "nbformat_minor": 5
}
