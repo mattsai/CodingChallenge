{
 "cells": [
  {
   "cell_type": "code",
   "execution_count": null,
   "id": "fd3ac4ee",
   "metadata": {},
   "outputs": [],
   "source": [
    "    def postorderTraversal(self, root: Optional[TreeNode]) -> List[int]:\n",
    "        def dfs(node):\n",
    "            if not node:\n",
    "                return []\n",
    "\n",
    "            left = dfs(node.left)\n",
    "            right = dfs(node.right)\n",
    "            \n",
    "            ans = left+right+[node.val]\n",
    "            return ans\n",
    "        return dfs(root)"
   ]
  },
  {
   "cell_type": "code",
   "execution_count": null,
   "id": "f4c1f374",
   "metadata": {},
   "outputs": [],
   "source": [
    "    def postorderTraversal(self, root: Optional[TreeNode]) -> List[int]:\n",
    "        def dfs(node,ans):\n",
    "            if not node: return\n",
    "            dfs(node.left,ans)\n",
    "            dfs(node.right,ans)\n",
    "            ans.append(node.val)\n",
    "            return ans\n",
    "        return dfs(root,[])\n"
   ]
  }
 ],
 "metadata": {
  "kernelspec": {
   "display_name": "Python 3 (ipykernel)",
   "language": "python",
   "name": "python3"
  },
  "language_info": {
   "codemirror_mode": {
    "name": "ipython",
    "version": 3
   },
   "file_extension": ".py",
   "mimetype": "text/x-python",
   "name": "python",
   "nbconvert_exporter": "python",
   "pygments_lexer": "ipython3",
   "version": "3.11.3"
  }
 },
 "nbformat": 4,
 "nbformat_minor": 5
}
