{
 "cells": [
  {
   "cell_type": "code",
   "execution_count": null,
   "id": "bb35f168",
   "metadata": {},
   "outputs": [],
   "source": [
    "def canJump(self, nums: List[int]) -> bool:\n",
    "        # goal = nums[-1]\n",
    "        if len(nums)==1 : return True\n",
    "        need = 1\n",
    "        # 1 1 1 0  3 1 0 4\n",
    "\n",
    "        #3 1 0 4 \n",
    "        #\n",
    "        right = len(nums)-1\n",
    "        left = right-1\n",
    "        need = 1\n",
    "        # goal - left es mayor igual a 0 , si puedo saltar\n",
    "        #   si si puedo saltar, mi goal ahora será esa posicion \n",
    "        # si no es asi, muevo puntero a left y hago resta \n",
    "        while left >= 0 :\n",
    "            num_left = nums[left]\n",
    "            if num_left >= need : \n",
    "                nums[left]=True\n",
    "                need = 1\n",
    "            else:\n",
    "                nums[left]=False\n",
    "                need+=1\n",
    "            left-=1\n",
    "\n",
    "        return nums[0]\n",
    "            "
   ]
  }
 ],
 "metadata": {
  "kernelspec": {
   "display_name": "Python 3 (ipykernel)",
   "language": "python",
   "name": "python3"
  }
 },
 "nbformat": 4,
 "nbformat_minor": 5
}
