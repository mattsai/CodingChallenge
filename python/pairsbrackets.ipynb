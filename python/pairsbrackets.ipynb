{
 "cells": [
  {
   "cell_type": "code",
   "execution_count": null,
   "id": "f49aa02c",
   "metadata": {},
   "outputs": [],
   "source": []
  },
  {
   "cell_type": "code",
   "execution_count": null,
   "id": "ea57c13f",
   "metadata": {},
   "outputs": [],
   "source": [
    "#pairs\n",
    "class Solution:\n",
    "    def isValid(self, s: str) -> bool:\n",
    "        pairs = {\n",
    "            ')':'(',\n",
    "            ']':'[',\n",
    "            '}':'{'\n",
    "        }\n",
    "        stack = []\n",
    "        for current in s :\n",
    "            if current in pairs.values(): \n",
    "                stack += [current]\n",
    "            else:\n",
    "                if not stack or stack.pop() != pairs[current]:\n",
    "                    return False  \n",
    "        return False if stack else True"
   ]
  }
 ],
 "metadata": {
  "kernelspec": {
   "display_name": "Python 3 (ipykernel)",
   "language": "python",
   "name": "python3"
  },
  "language_info": {
   "codemirror_mode": {
    "name": "ipython",
    "version": 3
   },
   "file_extension": ".py",
   "mimetype": "text/x-python",
   "name": "python",
   "nbconvert_exporter": "python",
   "pygments_lexer": "ipython3",
   "version": "3.11.3"
  }
 },
 "nbformat": 4,
 "nbformat_minor": 5
}
